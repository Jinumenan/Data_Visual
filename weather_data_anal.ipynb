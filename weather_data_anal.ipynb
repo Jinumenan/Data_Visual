{
 "cells": [
  {
   "cell_type": "code",
   "execution_count": null,
   "id": "9c210548-437d-4d9c-9405-113466a1ad4e",
   "metadata": {},
   "outputs": [],
   "source": [
    "import pandas as pd"
   ]
  },
  {
   "cell_type": "code",
   "execution_count": null,
   "id": "c3ce4587-079c-4d0e-9672-1f9c18691aa3",
   "metadata": {},
   "outputs": [],
   "source": [
    "#data insert\n",
    "data = pd.read_csv('file.csv')"
   ]
  },
  {
   "cell_type": "code",
   "execution_count": null,
   "id": "0842a503-fb39-4870-8e6a-108ce3f6f738",
   "metadata": {},
   "outputs": [],
   "source": [
    "data"
   ]
  },
  {
   "cell_type": "code",
   "execution_count": null,
   "id": "6709159e-5d18-4845-ac71-6dbe2a6e146d",
   "metadata": {},
   "outputs": [],
   "source": [
    "data.head()"
   ]
  },
  {
   "cell_type": "code",
   "execution_count": null,
   "id": "7443505c-0a2c-4fa8-8dda-9a98e30f08da",
   "metadata": {},
   "outputs": [],
   "source": [
    "data.shape"
   ]
  },
  {
   "cell_type": "code",
   "execution_count": null,
   "id": "a99ce35a-7847-4e4e-9dc5-b53bc17c7125",
   "metadata": {},
   "outputs": [],
   "source": [
    "data.index"
   ]
  },
  {
   "cell_type": "code",
   "execution_count": null,
   "id": "a733c528-b212-4d15-a24e-3303eb93e533",
   "metadata": {},
   "outputs": [],
   "source": [
    "data.columns"
   ]
  },
  {
   "cell_type": "code",
   "execution_count": null,
   "id": "f2dae080-985a-4458-8361-dd203d3fd219",
   "metadata": {},
   "outputs": [],
   "source": [
    "data.dtypes"
   ]
  },
  {
   "cell_type": "code",
   "execution_count": null,
   "id": "7c617b74-fbee-4504-917f-cf891952796d",
   "metadata": {},
   "outputs": [],
   "source": [
    "data['Weather'].unique()"
   ]
  },
  {
   "cell_type": "code",
   "execution_count": null,
   "id": "782a63cd-e4a8-417c-b6f8-00cde2954429",
   "metadata": {},
   "outputs": [],
   "source": [
    "data.nunique()"
   ]
  },
  {
   "cell_type": "code",
   "execution_count": null,
   "id": "aff459d3-92a0-403b-a052-e39ed46fdd1e",
   "metadata": {},
   "outputs": [],
   "source": [
    "data.count()"
   ]
  },
  {
   "cell_type": "code",
   "execution_count": null,
   "id": "1d3fc283-c91d-4209-925c-c04b1d8da7a3",
   "metadata": {},
   "outputs": [],
   "source": [
    "data['Weather'].value_counts()"
   ]
  },
  {
   "cell_type": "code",
   "execution_count": null,
   "id": "03173b33-3eb2-40a8-8e8f-c10f9dcf4941",
   "metadata": {},
   "outputs": [],
   "source": [
    "data.info()"
   ]
  },
  {
   "cell_type": "markdown",
   "id": "d8144a22-1a07-4bc9-b8a2-c938df0c7e74",
   "metadata": {},
   "source": [
    "## Start the Analysis "
   ]
  },
  {
   "cell_type": "markdown",
   "id": "9c33a5d0-646f-4157-bf17-184bdd432a27",
   "metadata": {},
   "source": [
    "### find the unique wind speead values in the data."
   ]
  },
  {
   "cell_type": "code",
   "execution_count": null,
   "id": "3fa9e9d3-bad1-4873-ae8d-c89759ebcedf",
   "metadata": {},
   "outputs": [],
   "source": [
    "#first will cheack the columns\n",
    "data.head(2)\n",
    "# then will find unique value. there are two method.\n"
   ]
  },
  {
   "cell_type": "code",
   "execution_count": null,
   "id": "960933d5-df39-433a-abfe-15ce3f54b5fd",
   "metadata": {},
   "outputs": [],
   "source": [
    "#1st method is\n",
    "data.nunique()"
   ]
  },
  {
   "cell_type": "code",
   "execution_count": null,
   "id": "9d3ac6f4-015f-4f29-b4f1-896359f781c7",
   "metadata": {},
   "outputs": [],
   "source": [
    "#and second method \n",
    "data['Wind Speed_km/h'].nunique()"
   ]
  },
  {
   "cell_type": "code",
   "execution_count": null,
   "id": "109bc2a4-3147-4617-8252-6c7de8e7844e",
   "metadata": {},
   "outputs": [],
   "source": [
    "#they asked me. give me the all unique values. So.....\n",
    "data['Wind Speed_km/h'].unique()"
   ]
  },
  {
   "cell_type": "code",
   "execution_count": null,
   "id": "8dde4714-b8f9-43ef-ba5a-3f39df7c4ab3",
   "metadata": {},
   "outputs": [],
   "source": []
  },
  {
   "cell_type": "markdown",
   "id": "b38b20db-1964-4d5e-a6f1-64ade734bdf2",
   "metadata": {},
   "source": [
    "### find the number of times when the weather is exactly clear. "
   ]
  },
  {
   "cell_type": "code",
   "execution_count": null,
   "id": "2dd28d3f-e20e-4695-a50d-dd4af857ed94",
   "metadata": {},
   "outputs": [],
   "source": [
    "data.head(2)"
   ]
  },
  {
   "cell_type": "code",
   "execution_count": null,
   "id": "7fff43f6-7f6e-4f85-8a14-dbe3bea50d75",
   "metadata": {},
   "outputs": [],
   "source": [
    "#value_count()\n",
    "data['Weather'].value_counts()"
   ]
  },
  {
   "cell_type": "code",
   "execution_count": null,
   "id": "6e1b392d-bebe-4243-8ec2-0eb419d7f2ad",
   "metadata": {},
   "outputs": [],
   "source": [
    "#filtter()\n",
    "data[data['Weather'] == 'Clear']\n"
   ]
  },
  {
   "cell_type": "code",
   "execution_count": null,
   "id": "151522ac-d7a6-4296-939c-339ad9b0527e",
   "metadata": {},
   "outputs": [],
   "source": [
    "#groubby()\n",
    "#data.groupby('Weather').get_group('Clear')[['Date/Time','Weather']] \n",
    "data.groupby('Weather').get_group('Clear')"
   ]
  },
  {
   "cell_type": "code",
   "execution_count": null,
   "id": "ea3c24e4-4e99-4b91-bb55-d23ad640d900",
   "metadata": {},
   "outputs": [],
   "source": [
    "len(data.groupby('Weather').get_group('Clear'))"
   ]
  },
  {
   "cell_type": "code",
   "execution_count": null,
   "id": "bcf49643-f15b-4c2b-b9cf-a8a89aacf507",
   "metadata": {},
   "outputs": [],
   "source": []
  },
  {
   "cell_type": "markdown",
   "id": "8bf5acc5-6fb1-4eb5-b7c7-ed44cd9fc1b5",
   "metadata": {},
   "source": [
    "### find the number of times when the 'wind speed was exactly 4 km/h'"
   ]
  },
  {
   "cell_type": "code",
   "execution_count": null,
   "id": "3cfb9740-9cd8-4fa1-9e25-6931e0effe03",
   "metadata": {},
   "outputs": [],
   "source": [
    "data.head(2)"
   ]
  },
  {
   "cell_type": "code",
   "execution_count": null,
   "id": "d31c2a83-34c0-4362-9c6d-26108f36f72c",
   "metadata": {},
   "outputs": [],
   "source": [
    "#filtter()\n",
    "data[data['Wind Speed_km/h'] == 4]"
   ]
  },
  {
   "cell_type": "code",
   "execution_count": null,
   "id": "6a15e2d9-e285-4434-96a6-3fe6490521f4",
   "metadata": {},
   "outputs": [],
   "source": []
  },
  {
   "cell_type": "markdown",
   "id": "1465c3c4-b3e9-4ec3-9b7a-05ce3496eace",
   "metadata": {},
   "source": [
    "### find out all the null values in the data set."
   ]
  },
  {
   "cell_type": "code",
   "execution_count": null,
   "id": "df459866-7c27-4fca-99f1-8603b43c17a2",
   "metadata": {},
   "outputs": [],
   "source": [
    "\n",
    "data.isnull().sum()"
   ]
  },
  {
   "cell_type": "code",
   "execution_count": null,
   "id": "f0333bb7-b90a-47f5-992d-0edb41f49900",
   "metadata": {
    "scrolled": true
   },
   "outputs": [],
   "source": [
    "data.notnull().sum()"
   ]
  },
  {
   "cell_type": "code",
   "execution_count": null,
   "id": "8dab7639-a3ee-4d7a-9699-1253f81b0f2c",
   "metadata": {},
   "outputs": [],
   "source": []
  },
  {
   "cell_type": "code",
   "execution_count": null,
   "id": "772c85a2-f8f2-4782-b9cd-38142bba1eba",
   "metadata": {},
   "outputs": [],
   "source": []
  },
  {
   "cell_type": "markdown",
   "id": "15729c35-70a1-4e2f-96d4-19e45c16a602",
   "metadata": {},
   "source": [
    "### rename the column name 'Weather' of the dataframe to 'Weather Condition'"
   ]
  },
  {
   "cell_type": "code",
   "execution_count": null,
   "id": "50bd0902-e3a3-494c-b3a1-288ff6985461",
   "metadata": {},
   "outputs": [],
   "source": [
    "data.head(2)"
   ]
  },
  {
   "cell_type": "code",
   "execution_count": null,
   "id": "c0d2bdeb-77d8-45fd-b49a-15357a826d84",
   "metadata": {},
   "outputs": [],
   "source": [
    "data.rename(columns = {\"Weather\" : \"Weather Condition\"})\n",
    "# this method is temp\n",
    "\n",
    "# So\n",
    "#data.rename(columns = {\"Weather\" : \"Weather Condition\"}, inplace = True)"
   ]
  },
  {
   "cell_type": "markdown",
   "id": "825d09fc-6a6e-46b1-b236-19797d030c28",
   "metadata": {},
   "source": [
    "### what is the mean 'visibility'?"
   ]
  },
  {
   "cell_type": "code",
   "execution_count": null,
   "id": "45b7d810-ea06-4398-b8f7-eca0583a478d",
   "metadata": {},
   "outputs": [],
   "source": [
    "data.head(2)"
   ]
  },
  {
   "cell_type": "code",
   "execution_count": null,
   "id": "3ec73a67-5621-4281-8da0-2537adf3adfb",
   "metadata": {},
   "outputs": [],
   "source": [
    "data['Visibility_km'].mean()"
   ]
  },
  {
   "cell_type": "markdown",
   "id": "cf2301ac-49e5-4f47-82b9-9463da3f18ff",
   "metadata": {},
   "source": [
    "### what is the standard deviation of 'Pressure' in the data?"
   ]
  },
  {
   "cell_type": "code",
   "execution_count": null,
   "id": "4db98e68-d1af-43bb-98c5-2d0151cf34aa",
   "metadata": {},
   "outputs": [],
   "source": [
    "data['Press_kPa'].std()"
   ]
  },
  {
   "cell_type": "markdown",
   "id": "8d63fe6a-666a-41bd-9752-84cfe3332f64",
   "metadata": {},
   "source": [
    "### what is the Variance of 'relative humidity' in this data?"
   ]
  },
  {
   "cell_type": "code",
   "execution_count": null,
   "id": "7741a9eb-4113-4369-8098-c96bed5222a4",
   "metadata": {},
   "outputs": [],
   "source": [
    "data['Rel Hum_%'].var()"
   ]
  },
  {
   "cell_type": "markdown",
   "id": "76e8c57f-cbb1-4caa-a7a1-4cd30e47ccde",
   "metadata": {},
   "source": [
    "### find all instances when 'Snow' was recorded"
   ]
  },
  {
   "cell_type": "code",
   "execution_count": null,
   "id": "c7951dca-6908-4e13-b39b-e8934c8efa38",
   "metadata": {},
   "outputs": [],
   "source": [
    "#value_counts()\n",
    "#data.head(2)\n",
    "data['Weather'].value_counts()"
   ]
  },
  {
   "cell_type": "code",
   "execution_count": null,
   "id": "62e565f2-a8e7-47e6-a7c3-7d8e65b07fd3",
   "metadata": {},
   "outputs": [],
   "source": [
    "#filttering\n",
    "data[data['Weather'] == 'Snow']"
   ]
  },
  {
   "cell_type": "code",
   "execution_count": null,
   "id": "6badc1b6-f75e-4870-bad9-a54f78c3b93f",
   "metadata": {},
   "outputs": [],
   "source": [
    "#str.contains()\n",
    "data[data['Weather'].str.contains('Snow')].tail(20)"
   ]
  },
  {
   "cell_type": "markdown",
   "id": "2018097f-d37a-46b6-9df2-ac2964872f71",
   "metadata": {},
   "source": [
    "### find the all instance when 'when speed is above 24' and visibility is 25"
   ]
  },
  {
   "cell_type": "code",
   "execution_count": null,
   "id": "e2f66adf-dacf-477a-ae43-81148ebdafda",
   "metadata": {},
   "outputs": [],
   "source": [
    "#filttering \n",
    "data.head(2)"
   ]
  },
  {
   "cell_type": "code",
   "execution_count": null,
   "id": "d87bd1c3-4c97-4763-a46d-17f04708b11a",
   "metadata": {},
   "outputs": [],
   "source": [
    "data[((data['Wind Speed_km/h'] > 24) & (data['Visibility_km'] == 25))].head(20)"
   ]
  },
  {
   "cell_type": "markdown",
   "id": "a653b90b-2020-478a-af42-b3614c96de73",
   "metadata": {},
   "source": [
    "### what is the mean value of each column against each \"weather\""
   ]
  },
  {
   "cell_type": "code",
   "execution_count": null,
   "id": "d42cfb54-5156-48fb-baec-6e2456baccba",
   "metadata": {},
   "outputs": [],
   "source": [
    "data.head(2)"
   ]
  },
  {
   "cell_type": "code",
   "execution_count": null,
   "id": "5fc04129-404f-468e-9012-da7b355a1a81",
   "metadata": {},
   "outputs": [],
   "source": [
    "data.groupby('Weather').mean(numeric_only=True)"
   ]
  },
  {
   "cell_type": "markdown",
   "id": "0ceebc23-fe46-4a5e-9702-d9cb26fb1bf1",
   "metadata": {},
   "source": [
    "### what is the maximum and minimum value of each column against each 'Weather'"
   ]
  },
  {
   "cell_type": "code",
   "execution_count": null,
   "id": "7f9145ac-d5f0-4457-92df-d6a880d2d1ea",
   "metadata": {},
   "outputs": [],
   "source": [
    "data.head(2)"
   ]
  },
  {
   "cell_type": "code",
   "execution_count": null,
   "id": "b1188d00-d45b-4229-8578-227deffeed1c",
   "metadata": {},
   "outputs": [],
   "source": [
    "data.groupby('Weather').min()"
   ]
  },
  {
   "cell_type": "code",
   "execution_count": null,
   "id": "fc220a8a-718b-4948-910d-872a96b0332d",
   "metadata": {},
   "outputs": [],
   "source": [
    "data.groupby('Weather').max()"
   ]
  },
  {
   "cell_type": "markdown",
   "id": "4bb17c73-6855-44a6-acd2-ca3c56d1d246",
   "metadata": {},
   "source": [
    "### show all the records weher 'Weather' if Fog"
   ]
  },
  {
   "cell_type": "code",
   "execution_count": null,
   "id": "b404e41c-99a4-49cd-b282-7ed9d8292b84",
   "metadata": {},
   "outputs": [],
   "source": [
    "data.head(2)"
   ]
  },
  {
   "cell_type": "code",
   "execution_count": null,
   "id": "464a1caf-e1e9-4855-8a65-482c07111d10",
   "metadata": {},
   "outputs": [],
   "source": [
    "data[data['Weather'] == 'Fog']"
   ]
  },
  {
   "cell_type": "markdown",
   "id": "fff50bb0-dbbf-4854-959a-b42b6499dd16",
   "metadata": {},
   "source": [
    "### find all the instances when 'Weather is Clear' or 'Visibility is above 40'."
   ]
  },
  {
   "cell_type": "code",
   "execution_count": null,
   "id": "e3a1dc10-91b8-40ee-864c-8367db37cb65",
   "metadata": {},
   "outputs": [],
   "source": [
    "data.head(2)"
   ]
  },
  {
   "cell_type": "code",
   "execution_count": null,
   "id": "2d1acc44-20c7-4c38-93d3-243042b1ff79",
   "metadata": {},
   "outputs": [],
   "source": [
    "data[((data['Weather'] == 'Clear') | (data['Visibility_km'] > 40))]"
   ]
  },
  {
   "cell_type": "markdown",
   "id": "9e7a17a9-cf97-4960-9c22-f46f79796e00",
   "metadata": {},
   "source": [
    "### find all instances when\n",
    "\n",
    "#### A. 'Weather is clear' and 'realtive humidility' is greater than 50\n",
    "\n",
    "#### or\n",
    "\n",
    "#### B. 'visibility is above 40'"
   ]
  },
  {
   "cell_type": "code",
   "execution_count": null,
   "id": "48eb448d-a0df-439a-b86b-72ebc468b316",
   "metadata": {},
   "outputs": [],
   "source": [
    "data[((data['Weather'] == 'Clear') & (data['Rel Hum_%'] > 50) | (data['Visibility_km'] > 40))]"
   ]
  },
  {
   "cell_type": "code",
   "execution_count": null,
   "id": "b6825262-9b53-41d7-acec-e0b385dbc80b",
   "metadata": {},
   "outputs": [],
   "source": []
  },
  {
   "cell_type": "code",
   "execution_count": null,
   "id": "ff9787a3-b1b4-4cec-86cd-868a3ed04035",
   "metadata": {},
   "outputs": [],
   "source": []
  },
  {
   "cell_type": "code",
   "execution_count": null,
   "id": "df2699e2-265f-4c26-8a34-ea3d84f8d59e",
   "metadata": {},
   "outputs": [],
   "source": []
  }
 ],
 "metadata": {
  "kernelspec": {
   "display_name": "Python 3 (ipykernel)",
   "language": "python",
   "name": "python3"
  },
  "language_info": {
   "codemirror_mode": {
    "name": "ipython",
    "version": 3
   },
   "file_extension": ".py",
   "mimetype": "text/x-python",
   "name": "python",
   "nbconvert_exporter": "python",
   "pygments_lexer": "ipython3",
   "version": "3.12.4"
  }
 },
 "nbformat": 4,
 "nbformat_minor": 5
}
